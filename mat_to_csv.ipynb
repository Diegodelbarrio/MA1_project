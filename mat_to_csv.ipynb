{
 "cells": [
  {
   "cell_type": "code",
   "execution_count": 1,
   "metadata": {},
   "outputs": [],
   "source": [
    "# Some boring imports\n",
    "import numpy as np\n",
    "import pandas as pd\n",
    "import os\n",
    "import scipy.io"
   ]
  },
  {
   "cell_type": "code",
   "execution_count": 2,
   "metadata": {},
   "outputs": [],
   "source": [
    "# Helper functions\n",
    "def load_filelist():\n",
    "    \n",
    "    FILELIST = []\n",
    "    for dirname, _, filenames in os.walk('/Users/diegodelbarrio/Desktop/Documentos_ETSII/MII/Bruface/1º Cuatri/Project in Electromechanical engineering /MA1_project_code/NASA_dataset_mat'):\n",
    "        for filename in filenames:\n",
    "\n",
    "            #filepath = filename\n",
    "            FILELIST.append(os.path.join(dirname, filename))\n",
    "    return FILELIST\n",
    "            \n",
    "            \n",
    "def filter_matfiles_list(filelist):\n",
    "    filelist = [filepath for filepath in filelist if filepath.endswith('.mat')]\n",
    "    #filelist = [filepath for filepath in filelist if \"BatteryAgingARC-FY08Q4\" not in filepath] # removing duplicates\n",
    "    return filelist\n",
    "\n",
    "\n",
    "def loadmat(filepath):\n",
    "    return scipy.io.loadmat(filepath, simplify_cells=True)"
   ]
  },
  {
   "cell_type": "code",
   "execution_count": 3,
   "metadata": {},
   "outputs": [
    {
     "name": "stdout",
     "output_type": "stream",
     "text": [
      "['/Users/diegodelbarrio/Desktop/Documentos_ETSII/MII/Bruface/1º Cuatri/Project in Electromechanical engineering /MA1_project_code/NASA_dataset_mat/B0005.mat', '/Users/diegodelbarrio/Desktop/Documentos_ETSII/MII/Bruface/1º Cuatri/Project in Electromechanical engineering /MA1_project_code/NASA_dataset_mat/B0006.mat', '/Users/diegodelbarrio/Desktop/Documentos_ETSII/MII/Bruface/1º Cuatri/Project in Electromechanical engineering /MA1_project_code/NASA_dataset_mat/B0007.mat']\n"
     ]
    }
   ],
   "source": [
    "FILELIST = filter_matfiles_list(load_filelist())\n",
    "print(FILELIST)"
   ]
  },
  {
   "attachments": {},
   "cell_type": "markdown",
   "metadata": {},
   "source": [
    "## Structure of .mat files\n",
    "\n",
    "- dictionary (loaded mat file)\n",
    "    - dictionary (e.g. B0005)\n",
    "        - list (cycle) -> one test per element in the list\n",
    "            - element of the list = dict = all data for one test of that battery\n",
    "                - type: operation type, can be charge, discharge or impedance\n",
    "                - ambient_temperature: ambient temperature (degree C)\n",
    "                - time: the date and time of the start of the cycle, in MATLAB date vector format\n",
    "                - data (dict): data structure containing the measurements\n",
    "                - data fields with key being measured variable, values the actual records (see below)\n",
    "\n",
    "\n",
    "\n",
    "- for charge the fields are:\n",
    "    - Voltage_measured: Battery terminal voltage (Volts)\n",
    "    - Current_measured: Battery output current (Amps)\n",
    "    - Temperature_measured: Battery temperature (degree C)\n",
    "    - Current_charge: Current measured at charger (Amps)\n",
    "    - Voltage_charge: Voltage measured at charger (Volts)\n",
    "    - Time: Time vector for the cycle (secs)\n",
    "\n",
    "\n",
    "\n",
    "- for discharge the fields are:\n",
    "    - Voltage_measured: Battery terminal voltage (Volts)\n",
    "    - Current_measured: Battery output current (Amps)\n",
    "    - Temperature_measured: Battery temperature (degree C)\n",
    "    - Current_load: Current measured at load (Amps)\n",
    "    - Voltage_load: Voltage measured at load (Volts)\n",
    "    - Time: Time vector for the cycle (secs)\n",
    "    - Capacity: Battery capacity (Ahr) for discharge till 2.7V\n",
    "\n",
    "\n",
    "\n",
    "- for impedance the fields are:\n",
    "    - Sense_current: Current in sense branch (Amps)\n",
    "    - Battery_current: Current in battery branch (Amps)\n",
    "    - Current_ratio: Ratio of the above currents\n",
    "    - Battery_impedance: Battery impedance (Ohms) computed from raw data\n",
    "    - Rectified_impedance: Calibrated and smoothed battery impedance (Ohms)\n",
    "    - Re: Estimated electrolyte resistance (Ohms)\n",
    "    - Rct: Estimated charge transfer resistance (Ohms)"
   ]
  },
  {
   "cell_type": "code",
   "execution_count": 4,
   "metadata": {},
   "outputs": [],
   "source": [
    "mat = loadmat(\"/Users/diegodelbarrio/Desktop/Documentos_ETSII/MII/Bruface/1º Cuatri/Project in Electromechanical engineering /MA1_project_code/NASA_dataset_mat/B0005.mat\")"
   ]
  },
  {
   "cell_type": "code",
   "execution_count": 6,
   "metadata": {},
   "outputs": [],
   "source": [
    "df = pd.DataFrame(data = mat['B0005']['cycle'][0]['data'])"
   ]
  },
  {
   "cell_type": "code",
   "execution_count": 7,
   "metadata": {},
   "outputs": [
    {
     "name": "stdout",
     "output_type": "stream",
     "text": [
      "   Voltage_measured  Current_measured  Temperature_measured  Current_charge  \\\n",
      "0          3.873017         -0.001201             24.655358           0.000   \n",
      "1          3.479394         -4.030268             24.666480          -4.036   \n",
      "2          4.000588          1.512731             24.675394           1.500   \n",
      "3          4.012395          1.509063             24.693865           1.500   \n",
      "4          4.019708          1.511318             24.705069           1.500   \n",
      "5          4.025409          1.512779             24.718140           1.498   \n",
      "6          4.030636          1.511838             24.731144           1.500   \n",
      "7          4.035349          1.510245             24.741290           1.500   \n",
      "8          4.039716          1.507796             24.759011           1.500   \n",
      "9          4.043541          1.507322             24.766891           1.500   \n",
      "\n",
      "   Voltage_charge    Time  \n",
      "0           0.003   0.000  \n",
      "1           1.570   2.532  \n",
      "2           4.726   5.500  \n",
      "3           4.742   8.344  \n",
      "4           4.753  11.125  \n",
      "5           4.758  13.891  \n",
      "6           4.764  16.672  \n",
      "7           4.769  19.500  \n",
      "8           4.775  22.282  \n",
      "9           4.775  25.063  \n"
     ]
    }
   ],
   "source": [
    "print(df.head(10))"
   ]
  },
  {
   "cell_type": "code",
   "execution_count": 8,
   "metadata": {},
   "outputs": [
    {
     "name": "stdout",
     "output_type": "stream",
     "text": [
      "<class 'pandas.core.frame.DataFrame'>\n",
      "RangeIndex: 789 entries, 0 to 788\n",
      "Data columns (total 6 columns):\n",
      " #   Column                Non-Null Count  Dtype  \n",
      "---  ------                --------------  -----  \n",
      " 0   Voltage_measured      789 non-null    float64\n",
      " 1   Current_measured      789 non-null    float64\n",
      " 2   Temperature_measured  789 non-null    float64\n",
      " 3   Current_charge        789 non-null    float64\n",
      " 4   Voltage_charge        789 non-null    float64\n",
      " 5   Time                  789 non-null    float64\n",
      "dtypes: float64(6)\n",
      "memory usage: 37.1 KB\n"
     ]
    }
   ],
   "source": [
    "df.info()"
   ]
  },
  {
   "cell_type": "code",
   "execution_count": 9,
   "metadata": {},
   "outputs": [],
   "source": [
    "import matplotlib.pyplot as plt\n",
    "\n",
    "def plot_test_data(df, profile = \"charge\"):\n",
    "    \n",
    "    if profile == 'charge':\n",
    "        plt.figure(figsize=(10,4))\n",
    "        plt.plot(df.Time, df.Voltage_measured, 'b', label='Voltage_measured')\n",
    "        plt.plot(df.Time, df.Current_measured, 'r', label='Current_measured')\n",
    "        plt.title(\"Charge\")\n",
    "        plt.legend()\n",
    "        plt.show()\n",
    "\n",
    "        plt.figure(figsize=(10,4))\n",
    "        plt.plot(df.Time, df.Voltage_charge, 'b', label = 'Voltage_charge')\n",
    "        plt.plot(df.Time, df.Current_charge, 'r', label = 'Current_charge')\n",
    "        plt.legend()\n",
    "        plt.title(\"Charge\")\n",
    "        plt.show()\n",
    "\n",
    "        plt.figure(figsize=(10,4))\n",
    "        plt.plot(df.Time, df.Temperature_measured, 'k', label = 'Temperature_measured')\n",
    "        plt.legend()\n",
    "        plt.title(\"Charge\")\n",
    "        plt.show()\n",
    "\n",
    "    elif profile == 'discharge':\n",
    "        plt.figure(figsize=(10,4))\n",
    "        plt.plot(df.Time, df.Voltage_measured, 'b', label = 'Voltage_measured')\n",
    "        plt.plot(df.Time, df.Current_measured, 'r', label = 'Current_measured')\n",
    "        plt.legend()\n",
    "        plt.title(\"Discharge\")\n",
    "        plt.show()\n",
    "\n",
    "        plt.figure(figsize=(10,4))\n",
    "        plt.plot(df.Time, df.Voltage_load, 'b', label = 'Voltage_load')\n",
    "        plt.plot(df.Time, df.Current_load, 'r', label = 'Current_load')\n",
    "        plt.legend()\n",
    "        plt.title(\"Discharge\")\n",
    "        plt.show()\n",
    "\n",
    "        plt.figure(figsize=(10,4))\n",
    "        plt.plot(df.Time, df.Temperature_measured, 'k', label = 'Temperature_measured')\n",
    "        plt.legend()\n",
    "        plt.title(\"Discharge\")\n",
    "        plt.show()\n",
    "\n",
    "    elif profile == 'impedance':\n",
    "        pass\n",
    "    \n",
    "    else:\n",
    "        print('No cycle recognized')"
   ]
  },
  {
   "cell_type": "code",
   "execution_count": 10,
   "metadata": {},
   "outputs": [
    {
     "data": {
      "image/png": "[encoded data removed]",
      "text/plain": [
       "<Figure size 720x288 with 1 Axes>"
      ]
     },
     "metadata": {
      "needs_background": "light"
     },
     "output_type": "display_data"
    },
    {
     "data": {
      "image/png": "[encoded data removed]",
      "text/plain": [
       "<Figure size 720x288 with 1 Axes>"
      ]
     },
     "metadata": {
      "needs_background": "light"
     },
     "output_type": "display_data"
    },
    {
     "data": {
      "image/png": "[encoded data removed]",
      "text/plain": [
       "<Figure size 720x288 with 1 Axes>"
      ]
     },
     "metadata": {
      "needs_background": "light"
     },
     "output_type": "display_data"
    }
   ],
   "source": [
    "plot_test_data(df)"
   ]
  },
  {
   "cell_type": "code",
   "execution_count": 14,
   "metadata": {},
   "outputs": [
    {
     "data": {
      "text/html": [
       "<div>\n",
       "<style scoped>\n",
       "    .dataframe tbody tr th:only-of-type {\n",
       "        vertical-align: middle;\n",
       "    }\n",
       "\n",
       "    .dataframe tbody tr th {\n",
       "        vertical-align: top;\n",
       "    }\n",
       "\n",
       "    .dataframe thead th {\n",
       "        text-align: right;\n",
       "    }\n",
       "</style>\n",
       "<table border=\"1\" class=\"dataframe\">\n",
       "  <thead>\n",
       "    <tr style=\"text-align: right;\">\n",
       "      <th></th>\n",
       "      <th>Voltage_measured</th>\n",
       "      <th>Current_measured</th>\n",
       "      <th>Temperature_measured</th>\n",
       "      <th>Current_load</th>\n",
       "      <th>Voltage_load</th>\n",
       "      <th>Time</th>\n",
       "      <th>Capacity</th>\n",
       "    </tr>\n",
       "  </thead>\n",
       "  <tbody>\n",
       "    <tr>\n",
       "      <th>0</th>\n",
       "      <td>4.191492</td>\n",
       "      <td>-0.004902</td>\n",
       "      <td>24.330034</td>\n",
       "      <td>-0.0006</td>\n",
       "      <td>0.000</td>\n",
       "      <td>0.000</td>\n",
       "      <td>1.856487</td>\n",
       "    </tr>\n",
       "    <tr>\n",
       "      <th>1</th>\n",
       "      <td>4.190749</td>\n",
       "      <td>-0.001478</td>\n",
       "      <td>24.325993</td>\n",
       "      <td>-0.0006</td>\n",
       "      <td>4.206</td>\n",
       "      <td>16.781</td>\n",
       "      <td>1.856487</td>\n",
       "    </tr>\n",
       "    <tr>\n",
       "      <th>2</th>\n",
       "      <td>3.974871</td>\n",
       "      <td>-2.012528</td>\n",
       "      <td>24.389085</td>\n",
       "      <td>-1.9982</td>\n",
       "      <td>3.062</td>\n",
       "      <td>35.703</td>\n",
       "      <td>1.856487</td>\n",
       "    </tr>\n",
       "    <tr>\n",
       "      <th>3</th>\n",
       "      <td>3.951717</td>\n",
       "      <td>-2.013979</td>\n",
       "      <td>24.544752</td>\n",
       "      <td>-1.9982</td>\n",
       "      <td>3.030</td>\n",
       "      <td>53.781</td>\n",
       "      <td>1.856487</td>\n",
       "    </tr>\n",
       "    <tr>\n",
       "      <th>4</th>\n",
       "      <td>3.934352</td>\n",
       "      <td>-2.011144</td>\n",
       "      <td>24.731385</td>\n",
       "      <td>-1.9982</td>\n",
       "      <td>3.011</td>\n",
       "      <td>71.922</td>\n",
       "      <td>1.856487</td>\n",
       "    </tr>\n",
       "  </tbody>\n",
       "</table>\n",
       "</div>"
      ],
      "text/plain": [
       "   Voltage_measured  Current_measured  Temperature_measured  Current_load  \\\n",
       "0          4.191492         -0.004902             24.330034       -0.0006   \n",
       "1          4.190749         -0.001478             24.325993       -0.0006   \n",
       "2          3.974871         -2.012528             24.389085       -1.9982   \n",
       "3          3.951717         -2.013979             24.544752       -1.9982   \n",
       "4          3.934352         -2.011144             24.731385       -1.9982   \n",
       "\n",
       "   Voltage_load    Time  Capacity  \n",
       "0         0.000   0.000  1.856487  \n",
       "1         4.206  16.781  1.856487  \n",
       "2         3.062  35.703  1.856487  \n",
       "3         3.030  53.781  1.856487  \n",
       "4         3.011  71.922  1.856487  "
      ]
     },
     "execution_count": 14,
     "metadata": {},
     "output_type": "execute_result"
    }
   ],
   "source": [
    "df = pd.DataFrame(data=mat['B0005']['cycle'][1]['data'])\n",
    "df.head()"
   ]
  },
  {
   "cell_type": "code",
   "execution_count": 12,
   "metadata": {},
   "outputs": [
    {
     "data": {
      "image/png": "[encoded data removed]",
      "text/plain": [
       "<Figure size 720x288 with 1 Axes>"
      ]
     },
     "metadata": {
      "needs_background": "light"
     },
     "output_type": "display_data"
    },
    {
     "data": {
      "image/png": "[encoded data removed]",
      "text/plain": [
       "<Figure size 720x288 with 1 Axes>"
      ]
     },
     "metadata": {
      "needs_background": "light"
     },
     "output_type": "display_data"
    },
    {
     "data": {
      "image/png": "[encoded data removed]",
      "text/plain": [
       "<Figure size 720x288 with 1 Axes>"
      ]
     },
     "metadata": {
      "needs_background": "light"
     },
     "output_type": "display_data"
    }
   ],
   "source": [
    "plot_test_data(df, profile='discharge')"
   ]
  },
  {
   "cell_type": "code",
   "execution_count": 4,
   "metadata": {},
   "outputs": [],
   "source": [
    "def process_data_dict(data_dict):\n",
    "    \"\"\" Creates two dictionaries:\n",
    "    - ndict: new dictionary with the test data to build a corresponding dataframe\n",
    "    - metadata_dict: anything that doesn't fit in ndict ('Capacity' is just a float)\n",
    "    \"\"\"\n",
    "    \n",
    "    ndict = {}\n",
    "    metadata_dict = {}\n",
    "    for k, v in data_dict.items():\n",
    "\n",
    "        if k not in ['Capacity', 'Re', 'Rct']:\n",
    "            ndict[k]=v\n",
    "\n",
    "        elif k == 'Capacity':\n",
    "            metadata_dict[k]=v\n",
    "\n",
    "        elif k == 'Re':\n",
    "            metadata_dict[k]=v\n",
    "\n",
    "        elif k == 'Rct':\n",
    "            metadata_dict[k]=v\n",
    "\n",
    "        else:\n",
    "            print(\"c'est la merde\")\n",
    "    \n",
    "    return ndict, metadata_dict\n",
    "\n",
    "\n",
    "def fill_metadata_row(metadata, test_type, test_start_time, test_temperature, battery_name, test_id, uid, filename, capacity, re, rct):\n",
    "\n",
    "    tmp = pd.DataFrame(data=[test_type, test_start_time, test_temperature, battery_name, test_id, uid, filename, capacity, re, rct])\n",
    "    tmp = tmp.transpose()\n",
    "    tmp.columns = metadata.columns\n",
    "    metadata = pd.concat((metadata, tmp), axis=0)\n",
    "    return metadata\n",
    "\n",
    "\n",
    "def extract_more_metadata(metadata_dict):\n",
    "    \n",
    "    if 'Capacity' in metadata_dict.keys():\n",
    "        capacity = metadata_dict['Capacity']\n",
    "\n",
    "    else:\n",
    "        capacity = np.nan\n",
    "        \n",
    "    if 'Re' in metadata_dict.keys():\n",
    "        \n",
    "        re = metadata_dict['Re']\n",
    "    else:\n",
    "        re = np.nan\n",
    "        \n",
    "    if 'Rct' in metadata_dict.keys():\n",
    "        rct = metadata_dict['Rct']\n",
    "\n",
    "    else:\n",
    "        rct = np.nan\n",
    "    \n",
    "    return capacity, re, rct"
   ]
  },
  {
   "cell_type": "code",
   "execution_count": 5,
   "metadata": {},
   "outputs": [],
   "source": [
    "metadata = pd.DataFrame(data = None, columns = ['type', 'start_time', 'ambient_temperature', 'battery_id', 'test_id', 'uid', 'filename', 'Capacity', 'Re', 'Rct'])\n",
    "battery_list = [item.split('/')[-1].split('.')[0] for item in FILELIST]"
   ]
  },
  {
   "cell_type": "code",
   "execution_count": 6,
   "metadata": {},
   "outputs": [],
   "source": [
    "# We create a tmp directory in which we will save all CSV files\n",
    "CWD = os.getcwd()\n",
    "os.listdir(CWD)\n",
    "directory = \"tmp\"\n",
    "path = os.path.join(CWD, directory)\n",
    "if not os.path.exists(path):\n",
    "    os.mkdir(path)"
   ]
  },
  {
   "cell_type": "code",
   "execution_count": 7,
   "metadata": {},
   "outputs": [
    {
     "data": {
      "text/plain": [
       "['mat_to_csv.ipynb', 'README.txt', 'tmp']"
      ]
     },
     "execution_count": 7,
     "metadata": {},
     "output_type": "execute_result"
    }
   ],
   "source": [
    "os.listdir(CWD) # we check that tmp exists now"
   ]
  },
  {
   "cell_type": "code",
   "execution_count": 8,
   "metadata": {},
   "outputs": [
    {
     "name": "stdout",
     "output_type": "stream",
     "text": [
      "/B0005.mat --> B0005\n",
      "/B0006.mat --> B0006\n",
      "/B0007.mat --> B0007\n"
     ]
    }
   ],
   "source": [
    "uid = 0\n",
    "\n",
    "for battery_name, mat_filepath in zip(battery_list, FILELIST):\n",
    "    \n",
    "    mat_data = scipy.io.loadmat(mat_filepath, simplify_cells=True)\n",
    "    print(mat_filepath[-10:],\"-->\", battery_name)\n",
    "    test_list = mat_data[battery_name]['cycle']\n",
    "    \n",
    "    for test_id in range(len(test_list)):\n",
    "        \n",
    "        uid += 1\n",
    "        filename = str(uid).zfill(5)+'.csv'\n",
    "        filepath = './tmp/' + filename\n",
    "\n",
    "        # Extract the specific test data and save it as CSV! \n",
    "        ndict, metadata_dict = process_data_dict(test_list[test_id]['data'])\n",
    "        test_df = pd.DataFrame.from_dict(ndict, orient='index')\n",
    "        test_df = test_df.transpose()\n",
    "\n",
    "        test_df.to_csv(filepath, index=False)\n",
    "                \n",
    "        # Add test information to the metadata\n",
    "        test_type = test_list[test_id]['type']\n",
    "        test_start_time = test_list[test_id]['time']\n",
    "        test_temperature = test_list[test_id]['ambient_temperature']\n",
    "        \n",
    "        capacity, re, rct = extract_more_metadata(metadata_dict)\n",
    "        metadata = fill_metadata_row(metadata, test_type, test_start_time, test_temperature, battery_name, test_id, uid, filename, capacity, re, rct)\n",
    "        "
   ]
  },
  {
   "cell_type": "code",
   "execution_count": 9,
   "metadata": {},
   "outputs": [],
   "source": [
    "metadata.to_csv('metadata.csv', index=False)"
   ]
  },
  {
   "cell_type": "code",
   "execution_count": 10,
   "metadata": {},
   "outputs": [
    {
     "name": "stdout",
     "output_type": "stream",
     "text": [
      "<class 'pandas.core.frame.DataFrame'>\n",
      "Int64Index: 1848 entries, 0 to 0\n",
      "Data columns (total 10 columns):\n",
      " #   Column               Non-Null Count  Dtype \n",
      "---  ------               --------------  ----- \n",
      " 0   type                 1848 non-null   object\n",
      " 1   start_time           1848 non-null   object\n",
      " 2   ambient_temperature  1848 non-null   object\n",
      " 3   battery_id           1848 non-null   object\n",
      " 4   test_id              1848 non-null   object\n",
      " 5   uid                  1848 non-null   object\n",
      " 6   filename             1848 non-null   object\n",
      " 7   Capacity             504 non-null    object\n",
      " 8   Re                   834 non-null    object\n",
      " 9   Rct                  834 non-null    object\n",
      "dtypes: object(10)\n",
      "memory usage: 158.8+ KB\n"
     ]
    }
   ],
   "source": [
    "metadata.info()"
   ]
  },
  {
   "cell_type": "code",
   "execution_count": 11,
   "metadata": {},
   "outputs": [
    {
     "data": {
      "text/plain": [
       "'/Users/diegodelbarrio/Desktop/Documentos_ETSII/MII/Bruface/1º Cuatri/Project in Electromechanical engineering /GNN_project/NASA_dataset/code/data.zip'"
      ]
     },
     "execution_count": 11,
     "metadata": {},
     "output_type": "execute_result"
    }
   ],
   "source": [
    "import shutil\n",
    "\n",
    "shutil.make_archive('data', 'zip', 'tmp')"
   ]
  }
 ],
 "metadata": {
  "kernelspec": {
   "display_name": "base",
   "language": "python",
   "name": "python3"
  },
  "language_info": {
   "codemirror_mode": {
    "name": "ipython",
    "version": 3
   },
   "file_extension": ".py",
   "mimetype": "text/x-python",
   "name": "python",
   "nbconvert_exporter": "python",
   "pygments_lexer": "ipython3",
   "version": "3.9.12"
  },
  "orig_nbformat": 4
 },
 "nbformat": 4,
 "nbformat_minor": 2
}
